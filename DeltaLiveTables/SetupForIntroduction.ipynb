{
 "cells": [
  {
   "cell_type": "code",
   "execution_count": 0,
   "metadata": {
    "application/vnd.databricks.v1+cell": {
     "cellMetadata": {},
     "inputWidgets": {},
     "nuid": "d8ca56cf-da21-4049-bf90-81ce43bad4ed",
     "showTitle": false,
     "tableResultSettingsMap": {},
     "title": ""
    }
   },
   "outputs": [],
   "source": [
    "-- Create New Schema\n",
    "CREATE SCHEMA IF NOT EXISTS dev.etl\n",
    "COMMENT 'SCHEMA FOR DLT INTRODUCTION'"
   ]
  },
  {
   "cell_type": "code",
   "execution_count": 0,
   "metadata": {
    "application/vnd.databricks.v1+cell": {
     "cellMetadata": {},
     "inputWidgets": {},
     "nuid": "76412eb4-ab93-4d64-b7a2-eb734d8aeb3d",
     "showTitle": false,
     "tableResultSettingsMap": {},
     "title": ""
    }
   },
   "outputs": [],
   "source": [
    "-- CLONE SOME SAMPLE TABLES\n",
    "CREATE TABLE IF NOT EXISTS dev.bronze.orders_raw DEEP CLONE sample.tpch.orders;\n",
    "CREATE TABLE IF NOT EXISTS dev.bronze.customer_raw DEEP CLONE sample.tpch.customer;"
   ]
  },
  {
   "cell_type": "code",
   "execution_count": 0,
   "metadata": {
    "application/vnd.databricks.v1+cell": {
     "cellMetadata": {},
     "inputWidgets": {},
     "nuid": "c0b89d1b-0f0b-4975-96f4-2a207244dd7e",
     "showTitle": false,
     "tableResultSettingsMap": {},
     "title": ""
    }
   },
   "outputs": [],
   "source": [
    "-- ADD SOME DATA INCREMENTALLY IN ORDERS\n",
    "INSERT INTO dev.bronze.orders_raw \n",
    "  SELECT * FROM sample.tpch.orders\n",
    "  LIMIT 10000;"
   ]
  }
 ],
 "metadata": {
  "application/vnd.databricks.v1+notebook": {
   "computePreferences": null,
   "dashboards": [],
   "environmentMetadata": {
    "base_environment": "",
    "environment_version": "2"
   },
   "language": "sql",
   "notebookMetadata": {
    "pythonIndentUnit": 4
   },
   "notebookName": "SetupForIntroduction",
   "widgets": {}
  },
  "language_info": {
   "name": "sql"
  }
 },
 "nbformat": 4,
 "nbformat_minor": 0
}

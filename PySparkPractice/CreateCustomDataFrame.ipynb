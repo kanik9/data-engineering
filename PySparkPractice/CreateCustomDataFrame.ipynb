{
 "cells": [
  {
   "cell_type": "code",
   "execution_count": 0,
   "metadata": {
    "application/vnd.databricks.v1+cell": {
     "cellMetadata": {
      "byteLimit": 2048000,
      "rowLimit": 10000
     },
     "inputWidgets": {},
     "nuid": "84d7c9de-b30a-424c-a6a8-0f86e1e4219b",
     "showTitle": false,
     "tableResultSettingsMap": {},
     "title": ""
    }
   },
   "outputs": [],
   "source": [
    "# Sample Data\n",
    "data = [\n",
    "    (1, \"Alice\", \"HR\", \"ProjectA,ProjectB\", 5000),\n",
    "    (2, \"Bob\", \"IT\", \"ProjectC,ProjectD\", 7000),\n",
    "    (3, \"Charlie\", \"Finance\", \"ProjectE\", 6000),\n",
    "    (4, \"David\", \"IT\", \"ProjectF,ProjectG,ProjectH\", 8000),\n",
    "    (5, \"Emma\", \"HR\", \"ProjectI\", 5500),\n",
    "    (6, \"Frank\", \"Finance\", \"ProjectJ,ProjectK\", 7200),\n",
    "    (7, \"Grace\", \"IT\", \"ProjectL\", 6500),\n",
    "    (8, \"Henry\", \"IT\", \"ProjectM,ProjectN\", 7200),\n",
    "    (9, \"Ivy\", \"HR\", \"ProjectO,ProjectP\", 5800),\n",
    "    (10, \"Jack\", \"Finance\", \"ProjectQ\", 7500),\n",
    "]\n",
    "\n",
    "columns = [\"emp_id\", \"name\", \"department\", \"projects\", \"salary\"]\n",
    "\n",
    "# Create DataFrame\n",
    "df = spark.createDataFrame(data, columns)"
   ]
  },
  {
   "cell_type": "markdown",
   "metadata": {
    "application/vnd.databricks.v1+cell": {
     "cellMetadata": {},
     "inputWidgets": {},
     "nuid": "96b52b83-c30f-42e2-93ad-9d8b11e6aa87",
     "showTitle": false,
     "tableResultSettingsMap": {},
     "title": ""
    }
   },
   "source": [
    "##Send dataframe to another notebook"
   ]
  },
  {
   "cell_type": "code",
   "execution_count": 0,
   "metadata": {
    "application/vnd.databricks.v1+cell": {
     "cellMetadata": {
      "byteLimit": 2048000,
      "rowLimit": 10000
     },
     "inputWidgets": {},
     "nuid": "226978c3-d6b2-443e-bd57-3cf3565ba399",
     "showTitle": false,
     "tableResultSettingsMap": {},
     "title": ""
    }
   },
   "outputs": [],
   "source": [
    "dbutils.notebook.exit(df)"
   ]
  },
  {
   "cell_type": "code",
   "execution_count": 0,
   "metadata": {
    "application/vnd.databricks.v1+cell": {
     "cellMetadata": {},
     "inputWidgets": {},
     "nuid": "51b2a59a-1bfb-4fef-aece-792d0e932be9",
     "showTitle": false,
     "tableResultSettingsMap": {},
     "title": ""
    }
   },
   "outputs": [],
   "source": []
  }
 ],
 "metadata": {
  "application/vnd.databricks.v1+notebook": {
   "computePreferences": null,
   "dashboards": [],
   "environmentMetadata": {
    "base_environment": "",
    "environment_version": "1"
   },
   "language": "python",
   "notebookMetadata": {
    "pythonIndentUnit": 4
   },
   "notebookName": "CreateCustomDataFrame",
   "widgets": {}
  },
  "language_info": {
   "name": "python"
  }
 },
 "nbformat": 4,
 "nbformat_minor": 0
}

{
 "cells": [
  {
   "cell_type": "code",
   "execution_count": 0,
   "metadata": {
    "application/vnd.databricks.v1+cell": {
     "cellMetadata": {
      "byteLimit": 2048000,
      "rowLimit": 10000
     },
     "inputWidgets": {},
     "nuid": "9f9ecdfc-5970-4038-a61f-3b4df5f17c4a",
     "showTitle": false,
     "tableResultSettingsMap": {},
     "title": ""
    }
   },
   "outputs": [],
   "source": [
    "# Sample Data for `sales_data`\n",
    "data = [\n",
    "    (1, 101, \"Alice Smith\", \"North\", \"Laptop\", \"2023-01-01\", 2, 1200.00, 2400.00),\n",
    "    (2, 102, \"Bob Johnson\", \"South\", \"Smartphone\", \"2023-01-02\", 5, 800.00, 4000.00),\n",
    "    (3, 103, \"Charlie Brown\", \"East\", \"Tablet\", \"2023-01-03\", 3, 500.00, 1500.00),\n",
    "    (4, 104, \"Diana Prince\", \"West\", \"Laptop\", \"2023-01-04\", 1, 1200.00, 1200.00),\n",
    "    (5, 101, \"Alice Smith\", \"North\", \"Smartphone\", \"2023-01-05\", 4, 800.00, 3200.00),\n",
    "    (6, 103, \"Charlie Brown\", \"East\", \"Laptop\", \"2023-01-06\", 2, 1200.00, 2400.00),\n",
    "    (7, 102, \"Bob Johnson\", \"South\", \"Tablet\", \"2023-01-07\", 6, 500.00, 3000.00),\n",
    "    (8, 104, \"Diana Prince\", \"West\", \"Smartphone\", \"2023-01-08\", 7, 800.00, 5600.00),\n",
    "    (9, 101, \"Alice Smith\", \"North\", \"Tablet\", \"2023-01-09\", 2, 500.00, 1000.00),\n",
    "    (10, 102, \"Bob Johnson\", \"South\", \"Laptop\", \"2023-01-10\", 1, 1200.00, 1200.00),\n",
    "    (11, 102, \"Bob Johnson1\", \"South\", \"Laptop\", \"2023-01-11\", 1, 1100.00, 1100.00),\n",
    "]\n",
    "\n",
    "# Define Schema\n",
    "columns = [\"sale_id\", \"employee_id\", \"employee_name\", \"region\", \"product\", \n",
    "           \"sale_date\", \"quantity\", \"unit_price\", \"total_amount\"]"
   ]
  },
  {
   "cell_type": "code",
   "execution_count": 0,
   "metadata": {
    "application/vnd.databricks.v1+cell": {
     "cellMetadata": {
      "byteLimit": 2048000,
      "rowLimit": 10000
     },
     "inputWidgets": {},
     "nuid": "68a67c02-582b-4834-8d5a-7ee8fc5a3767",
     "showTitle": false,
     "tableResultSettingsMap": {},
     "title": ""
    }
   },
   "outputs": [],
   "source": [
    "# Create DataFrame\n",
    "df = spark.createDataFrame(data, schema=columns)"
   ]
  },
  {
   "cell_type": "code",
   "execution_count": 0,
   "metadata": {
    "application/vnd.databricks.v1+cell": {
     "cellMetadata": {
      "byteLimit": 2048000,
      "rowLimit": 10000
     },
     "inputWidgets": {},
     "nuid": "dc42e7b8-2888-45ed-bdbc-f70c37360754",
     "showTitle": false,
     "tableResultSettingsMap": {},
     "title": ""
    }
   },
   "outputs": [],
   "source": [
    "from pyspark.sql.window import Window\n",
    "import pyspark.sql.functions as f"
   ]
  },
  {
   "cell_type": "code",
   "execution_count": 0,
   "metadata": {
    "application/vnd.databricks.v1+cell": {
     "cellMetadata": {
      "byteLimit": 2048000,
      "rowLimit": 10000
     },
     "inputWidgets": {},
     "nuid": "f9a2fddb-94dd-46fb-b798-a0f293114372",
     "showTitle": false,
     "tableResultSettingsMap": {},
     "title": ""
    }
   },
   "outputs": [],
   "source": [
    "newDf = df.withColumn('row_number', f.row_number().over(Window.partitionBy('product').orderBy(f.desc('unit_price'))))"
   ]
  },
  {
   "cell_type": "code",
   "execution_count": 0,
   "metadata": {
    "application/vnd.databricks.v1+cell": {
     "cellMetadata": {
      "byteLimit": 2048000,
      "rowLimit": 10000
     },
     "inputWidgets": {},
     "nuid": "33f97abf-c6e1-4aa6-aec6-a6bb850a8fcd",
     "showTitle": false,
     "tableResultSettingsMap": {},
     "title": ""
    }
   },
   "outputs": [],
   "source": [
    "newDF1 = newDf.withColumn('product_rank', f.rank().over(Window.partitionBy('product').orderBy(f.desc('unit_price'))))"
   ]
  },
  {
   "cell_type": "code",
   "execution_count": 0,
   "metadata": {
    "application/vnd.databricks.v1+cell": {
     "cellMetadata": {
      "byteLimit": 2048000,
      "rowLimit": 10000
     },
     "inputWidgets": {},
     "nuid": "0f663b20-d6d7-45fd-9fc1-f7ddf9835ff7",
     "showTitle": false,
     "tableResultSettingsMap": {},
     "title": ""
    }
   },
   "outputs": [],
   "source": [
    "display(newDF1.take(10))"
   ]
  },
  {
   "cell_type": "code",
   "execution_count": 0,
   "metadata": {
    "application/vnd.databricks.v1+cell": {
     "cellMetadata": {
      "byteLimit": 2048000,
      "rowLimit": 10000
     },
     "inputWidgets": {},
     "nuid": "f9046edd-288f-4968-9538-29cb8354d963",
     "showTitle": false,
     "tableResultSettingsMap": {},
     "title": ""
    }
   },
   "outputs": [],
   "source": [
    "df.withColumn(\"TotalRevenueOfProduct\", f.sum('total_amount').over(Window.partitionBy(\"product\").orderBy('total_amount').rowsBetween(-1, 0))).display()"
   ]
  },
  {
   "cell_type": "code",
   "execution_count": 0,
   "metadata": {
    "application/vnd.databricks.v1+cell": {
     "cellMetadata": {
      "byteLimit": 2048000,
      "rowLimit": 10000
     },
     "inputWidgets": {},
     "nuid": "21582946-776a-42d1-9c10-9aa5c717e55f",
     "showTitle": false,
     "tableResultSettingsMap": {},
     "title": ""
    }
   },
   "outputs": [],
   "source": [
    "# Define the window specification using rangeBetween\n",
    "windowSpecRange = Window.partitionBy('product').orderBy('unit_price').rangeBetween(Window.unboundedPreceding, Window.currentRow)\n",
    "\n",
    "# Define the window specification using rowsBetween\n",
    "windowSpecRows = Window.partitionBy('product').orderBy('unit_price').rowsBetween(Window.unboundedPreceding, Window.currentRow)\n",
    "\n",
    "# Create a new DataFrame with the sum of total_amount using rangeBetween\n",
    "df_with_range_sum = df.withColumn('range_sum', f.sum('total_amount').over(windowSpecRange))\n",
    "\n",
    "# Create a new DataFrame with the sum of total_amount using rowsBetween\n",
    "df_with_rows_sum = df.withColumn('rows_sum', f.sum('total_amount').over(windowSpecRows))\n",
    "\n",
    "display(df_with_range_sum)\n",
    "display(df_with_rows_sum)"
   ]
  },
  {
   "cell_type": "code",
   "execution_count": 0,
   "metadata": {
    "application/vnd.databricks.v1+cell": {
     "cellMetadata": {
      "byteLimit": 2048000,
      "rowLimit": 10000
     },
     "inputWidgets": {},
     "nuid": "65d373cf-b3b0-465d-8ab2-ae923361c10b",
     "showTitle": false,
     "tableResultSettingsMap": {},
     "title": ""
    }
   },
   "outputs": [],
   "source": [
    "df.withColumn('leadVal', f.lead('total_amount', 1).over(Window.partitionBy('product').orderBy(f.desc('unit_price')))).display()"
   ]
  },
  {
   "cell_type": "code",
   "execution_count": 0,
   "metadata": {
    "application/vnd.databricks.v1+cell": {
     "cellMetadata": {
      "byteLimit": 2048000,
      "rowLimit": 10000
     },
     "inputWidgets": {},
     "nuid": "b7b7f4fa-0a4e-480b-83dd-cc1ac608b81b",
     "showTitle": false,
     "tableResultSettingsMap": {},
     "title": ""
    }
   },
   "outputs": [],
   "source": [
    "df.withColumn('lagVal', f.lag('total_amount', 1).over(Window.partitionBy('product').orderBy(f.desc('unit_price')))).display()"
   ]
  },
  {
   "cell_type": "code",
   "execution_count": 0,
   "metadata": {
    "application/vnd.databricks.v1+cell": {
     "cellMetadata": {
      "byteLimit": 2048000,
      "rowLimit": 10000
     },
     "inputWidgets": {},
     "nuid": "b5ceaed4-ccfe-47f7-a082-da25b84cdbe9",
     "showTitle": false,
     "tableResultSettingsMap": {},
     "title": ""
    }
   },
   "outputs": [],
   "source": [
    "newDF2 = newDf1.withColumn('product_dense_rank', f.rank().over(Window.partitionBy('product').orderBy(f.desc('unit_price'))))"
   ]
  },
  {
   "cell_type": "code",
   "execution_count": 0,
   "metadata": {
    "application/vnd.databricks.v1+cell": {
     "cellMetadata": {
      "byteLimit": 2048000,
      "rowLimit": 10000
     },
     "inputWidgets": {},
     "nuid": "fca0bbba-f137-4dda-8263-f5829243ce8e",
     "showTitle": false,
     "tableResultSettingsMap": {},
     "title": ""
    }
   },
   "outputs": [],
   "source": [
    "productWindow = Window.partitionBy('product').orderBy(f.desc('unit_price'))"
   ]
  },
  {
   "cell_type": "code",
   "execution_count": 0,
   "metadata": {
    "application/vnd.databricks.v1+cell": {
     "cellMetadata": {
      "byteLimit": 2048000,
      "rowLimit": 10000
     },
     "collapsed": true,
     "inputWidgets": {},
     "nuid": "b130aed3-afcd-4009-b734-62aac19b0661",
     "showTitle": false,
     "tableResultSettingsMap": {},
     "title": ""
    }
   },
   "outputs": [],
   "source": [
    "productRankDF = df.select(\n",
    "    [\n",
    "        f.col('product'),\n",
    "        f.col('unit_price'),\n",
    "        f.dense_rank().over(productWindow).alias('product_rank')\n",
    "    ]\n",
    ")"
   ]
  },
  {
   "cell_type": "code",
   "execution_count": 0,
   "metadata": {
    "application/vnd.databricks.v1+cell": {
     "cellMetadata": {
      "byteLimit": 2048000,
      "rowLimit": 10000
     },
     "collapsed": true,
     "inputWidgets": {},
     "nuid": "849b1581-9dbf-4385-984d-2fa934e7715b",
     "showTitle": false,
     "tableResultSettingsMap": {},
     "title": ""
    }
   },
   "outputs": [],
   "source": [
    "productRankDF.display()"
   ]
  },
  {
   "cell_type": "code",
   "execution_count": 0,
   "metadata": {
    "application/vnd.databricks.v1+cell": {
     "cellMetadata": {
      "byteLimit": 2048000,
      "rowLimit": 10000
     },
     "inputWidgets": {},
     "nuid": "48631733-e790-4f64-8186-e0fc3602c3b6",
     "showTitle": false,
     "tableResultSettingsMap": {},
     "title": ""
    }
   },
   "outputs": [],
   "source": [
    "regionWindow = Window.partitionBy(\"region\").orderBy(f.desc('total_amount'))"
   ]
  },
  {
   "cell_type": "code",
   "execution_count": 0,
   "metadata": {
    "application/vnd.databricks.v1+cell": {
     "cellMetadata": {
      "byteLimit": 2048000,
      "rowLimit": 10000
     },
     "inputWidgets": {},
     "nuid": "0a83f323-57df-4a00-b39d-472983dab2c5",
     "showTitle": false,
     "tableResultSettingsMap": {},
     "title": ""
    }
   },
   "outputs": [],
   "source": [
    "# 1. Rank Sales by Region\n",
    "# columns = [\"sale_id\", \"employee_id\", \"employee_name\", \"region\", \"product\", \n",
    "        #    \"sale_date\", \"quantity\", \"unit_price\", \"total_amount\"]\n",
    "regionRankDF = df.select(\n",
    "    [\n",
    "        f.col('sale_id'),\n",
    "        f.col('employee_id'),\n",
    "        f.col('region'),\n",
    "        f.col('product'),\n",
    "        f.col('total_amount'),\n",
    "        f.dense_rank().over(regionWindow).alias('region_rank')\n",
    "    ]\n",
    ")\n",
    "\n",
    "display(regionRankDF)\n"
   ]
  },
  {
   "cell_type": "code",
   "execution_count": 0,
   "metadata": {
    "application/vnd.databricks.v1+cell": {
     "cellMetadata": {
      "byteLimit": 2048000,
      "rowLimit": 10000
     },
     "inputWidgets": {},
     "nuid": "e33afbb7-912b-4bbe-a0cc-0648465180c0",
     "showTitle": false,
     "tableResultSettingsMap": {},
     "title": ""
    }
   },
   "outputs": [],
   "source": [
    "empWindow = Window.partitionBy(\"employee_id\").orderBy(f.desc('total_amount'))"
   ]
  },
  {
   "cell_type": "code",
   "execution_count": 0,
   "metadata": {
    "application/vnd.databricks.v1+cell": {
     "cellMetadata": {
      "byteLimit": 2048000,
      "rowLimit": 10000
     },
     "inputWidgets": {},
     "nuid": "4fdc13ce-5d31-4717-af56-f9a32fec43d9",
     "showTitle": false,
     "tableResultSettingsMap": {},
     "title": ""
    }
   },
   "outputs": [],
   "source": [
    "# 2. Calculate Running Total by Employee\n",
    "df = df.withColumn('employee_total_amount', f.sum('total_amount').over(empWindow))\n",
    "df.display()"
   ]
  },
  {
   "cell_type": "code",
   "execution_count": 0,
   "metadata": {
    "application/vnd.databricks.v1+cell": {
     "cellMetadata": {},
     "inputWidgets": {},
     "nuid": "e1052bc8-46e7-442e-97af-45658fb993a4",
     "showTitle": false,
     "tableResultSettingsMap": {},
     "title": ""
    }
   },
   "outputs": [],
   "source": []
  }
 ],
 "metadata": {
  "application/vnd.databricks.v1+notebook": {
   "computePreferences": null,
   "dashboards": [],
   "environmentMetadata": {
    "base_environment": "",
    "client": "1"
   },
   "language": "python",
   "notebookMetadata": {
    "pythonIndentUnit": 4
   },
   "notebookName": "Spark Query Practice",
   "widgets": {}
  },
  "language_info": {
   "name": "python"
  }
 },
 "nbformat": 4,
 "nbformat_minor": 0
}

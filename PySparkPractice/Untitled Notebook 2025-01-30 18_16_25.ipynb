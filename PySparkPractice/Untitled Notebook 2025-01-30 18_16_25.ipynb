{
 "cells": [
  {
   "cell_type": "markdown",
   "metadata": {
    "application/vnd.databricks.v1+cell": {
     "cellMetadata": {},
     "inputWidgets": {},
     "nuid": "328cacac-5e16-4697-8867-7e54fc71fbe2",
     "showTitle": false,
     "tableResultSettingsMap": {},
     "title": ""
    }
   },
   "source": [
    "# Exchange Seats"
   ]
  },
  {
   "cell_type": "markdown",
   "metadata": {
    "application/vnd.databricks.v1+cell": {
     "cellMetadata": {},
     "inputWidgets": {},
     "nuid": "880a7825-f988-42a0-9df8-2612b5aa1d69",
     "showTitle": false,
     "tableResultSettingsMap": {},
     "title": ""
    }
   },
   "source": [
    "Table: Seat\n",
    "\n",
    "+-------------+---------+\n",
    "| Column Name | Type    |\n",
    "+-------------+---------+\n",
    "| id          | int     |\n",
    "| student     | varchar |\n",
    "+-------------+---------+\n",
    "id is the primary key (unique value) column for this table.\n",
    "Each row of this table indicates the name and the ID of a student.\n",
    "The ID sequence always starts from 1 and increments continuously.\n",
    " \n",
    "\n",
    "Write a solution to swap the seat id of every two consecutive students. If the number of students is odd, the id of the last student is not swapped.\n",
    "\n",
    "Return the result table ordered by id in ascending order.\n",
    "\n",
    "The result format is in the following example."
   ]
  },
  {
   "cell_type": "markdown",
   "metadata": {
    "application/vnd.databricks.v1+cell": {
     "cellMetadata": {},
     "inputWidgets": {},
     "nuid": "7bdd787f-18a7-43d4-a77d-b6fc3487725d",
     "showTitle": false,
     "tableResultSettingsMap": {},
     "title": ""
    }
   },
   "source": [
    "Example 1:\n",
    "\n",
    "Input: \n",
    "Seat table:\n",
    "+----+---------+\n",
    "| id | student |\n",
    "+----+---------+\n",
    "| 1  | Abbot   |\n",
    "| 2  | Doris   |\n",
    "| 3  | Emerson |\n",
    "| 4  | Green   |\n",
    "| 5  | Jeames  |\n",
    "+----+---------+\n",
    "Output: \n",
    "+----+---------+\n",
    "| id | student |\n",
    "+----+---------+\n",
    "| 1  | Doris   |\n",
    "| 2  | Abbot   |\n",
    "| 3  | Green   |\n",
    "| 4  | Emerson |\n",
    "| 5  | Jeames  |\n",
    "+----+---------+\n",
    "Explanation: \n",
    "Note that if the number of students is odd, there is no need to change the last one's seat."
   ]
  },
  {
   "cell_type": "code",
   "execution_count": 0,
   "metadata": {
    "application/vnd.databricks.v1+cell": {
     "cellMetadata": {},
     "inputWidgets": {},
     "nuid": "5fc1d7c7-4457-4e97-8ee2-91248123ecf1",
     "showTitle": false,
     "tableResultSettingsMap": {},
     "title": ""
    }
   },
   "outputs": [],
   "source": [
    "%sql\n",
    "SELECT \n",
    "  CASE \n",
    "    WHEN id%2 =1 AND id <= (SELECT MAX(id) FROM Seat) THEN id + 1\n",
    "    WHEN id%2 = 0 THEN id - 1\n",
    "    ELSE id\n",
    "  END AS id,\n",
    "  student\n",
    "FROM Seat\n",
    "ORDER BY id"
   ]
  },
  {
   "cell_type": "markdown",
   "metadata": {
    "application/vnd.databricks.v1+cell": {
     "cellMetadata": {},
     "inputWidgets": {},
     "nuid": "2a7a9166-85a2-4aa4-9711-089ff4ecc68d",
     "showTitle": false,
     "tableResultSettingsMap": {},
     "title": ""
    }
   },
   "source": [
    "# Trips and Users"
   ]
  },
  {
   "cell_type": "markdown",
   "metadata": {
    "application/vnd.databricks.v1+cell": {
     "cellMetadata": {},
     "inputWidgets": {},
     "nuid": "238eacf5-ab55-42dc-9be9-ecf3cd567962",
     "showTitle": false,
     "tableResultSettingsMap": {},
     "title": ""
    }
   },
   "source": [
    "Table: Trips\n",
    "\n",
    "+-------------+----------+\n",
    "| Column Name | Type     |\n",
    "+-------------+----------+\n",
    "| id          | int      |\n",
    "| client_id   | int      |\n",
    "| driver_id   | int      |\n",
    "| city_id     | int      |\n",
    "| status      | enum     |\n",
    "| request_at  | varchar  |     \n",
    "+-------------+----------+\n",
    "\n",
    "\n",
    "id is the primary key (column with unique values) for this table.\n",
    "The table holds all taxi trips. Each trip has a unique id, while client_id and driver_id are foreign keys to the users_id at the Users table.\n",
    "Status is an ENUM (category) type of ('completed', 'cancelled_by_driver', 'cancelled_by_client').\n",
    " \n",
    "\n",
    "Table: Users\n",
    "\n",
    "+-------------+----------+\n",
    "| Column Name | Type     |\n",
    "+-------------+----------+\n",
    "| users_id    | int      |\n",
    "| banned      | enum     |\n",
    "| role        | enum     |\n",
    "+-------------+----------+\n",
    "\n",
    "\n",
    "users_id is the primary key (column with unique values) for this table.\n",
    "The table holds all users. Each user has a unique users_id, and role is an ENUM type of ('client', 'driver', 'partner').\n",
    "banned is an ENUM (category) type of ('Yes', 'No').\n",
    " \n",
    "\n",
    "The cancellation rate is computed by dividing the number of canceled (by client or driver) requests with unbanned users by the total number of requests with unbanned users on that day.\n",
    "\n",
    "Write a solution to find the cancellation rate of requests with unbanned users (both client and driver must not be banned) each day between \"2013-10-01\" and \"2013-10-03\". Round Cancellation Rate to two decimal points.\n",
    "\n",
    "Return the result table in any order.\n",
    "\n",
    "The result format is in the following example.\n",
    "\n",
    " \n",
    "\n",
    "Example 1:\n",
    "\n",
    "Input: \n",
    "Trips table:\n",
    "+----+-----------+-----------+---------+---------------------+------------+\n",
    "| id | client_id | driver_id | city_id | status              | request_at |\n",
    "+----+-----------+-----------+---------+---------------------+------------+\n",
    "| 1  | 1         | 10        | 1       | completed           | 2013-10-01 |\n",
    "| 2  | 2         | 11        | 1       | cancelled_by_driver | 2013-10-01 |\n",
    "| 3  | 3         | 12        | 6       | completed           | 2013-10-01 |\n",
    "| 4  | 4         | 13        | 6       | cancelled_by_client | 2013-10-01 |\n",
    "| 5  | 1         | 10        | 1       | completed           | 2013-10-02 |\n",
    "| 6  | 2         | 11        | 6       | completed           | 2013-10-02 |\n",
    "| 7  | 3         | 12        | 6       | completed           | 2013-10-02 |\n",
    "| 8  | 2         | 12        | 12      | completed           | 2013-10-03 |\n",
    "| 9  | 3         | 10        | 12      | completed           | 2013-10-03 |\n",
    "| 10 | 4         | 13        | 12      | cancelled_by_driver | 2013-10-03 |\n",
    "+----+-----------+-----------+---------+---------------------+------------+\n",
    "\n",
    "\n",
    "Users table:\n",
    "+----------+--------+--------+\n",
    "| users_id | banned | role   |\n",
    "+----------+--------+--------+\n",
    "| 1        | No     | client |\n",
    "| 2        | Yes    | client |\n",
    "| 3        | No     | client |\n",
    "| 4        | No     | client |\n",
    "| 10       | No     | driver |\n",
    "| 11       | No     | driver |\n",
    "| 12       | No     | driver |\n",
    "| 13       | No     | driver |\n",
    "+----------+--------+--------+\n",
    "\n",
    "\n",
    "Output: \n",
    "+------------+-------------------+\n",
    "| Day        | Cancellation Rate |\n",
    "+------------+-------------------+\n",
    "| 2013-10-01 | 0.33              |\n",
    "| 2013-10-02 | 0.00              |\n",
    "| 2013-10-03 | 0.50              |\n",
    "+------------+-------------------+\n",
    "\n",
    "\n",
    "Explanation: \n",
    "On 2013-10-01:\n",
    "  - There were 4 requests in total, 2 of which were canceled.\n",
    "  - However, the request with Id=2 was made by a banned client (User_Id=2), so it is ignored in the calculation.\n",
    "  - Hence there are 3 unbanned requests in total, 1 of which was canceled.\n",
    "  - The Cancellation Rate is (1 / 3) = 0.33\n",
    "On 2013-10-02:\n",
    "  - There were 3 requests in total, 0 of which were canceled.\n",
    "  - The request with Id=6 was made by a banned client, so it is ignored.\n",
    "  - Hence there are 2 unbanned requests in total, 0 of which were canceled.\n",
    "  - The Cancellation Rate is (0 / 2) = 0.00\n",
    "On 2013-10-03:\n",
    "  - There were 3 requests in total, 1 of which was canceled.\n",
    "  - The request with Id=8 was made by a banned client, so it is ignored.\n",
    "  - Hence there are 2 unbanned request in total, 1 of which were canceled.\n",
    "  - The Cancellation Rate is (1 / 2) = 0.50\n"
   ]
  },
  {
   "cell_type": "code",
   "execution_count": 0,
   "metadata": {
    "application/vnd.databricks.v1+cell": {
     "cellMetadata": {},
     "inputWidgets": {},
     "nuid": "d0785405-620f-4a07-8ddc-8b068e5bd7bd",
     "showTitle": false,
     "tableResultSettingsMap": {},
     "title": ""
    }
   },
   "outputs": [],
   "source": []
  }
 ],
 "metadata": {
  "application/vnd.databricks.v1+notebook": {
   "computePreferences": null,
   "dashboards": [],
   "environmentMetadata": {
    "base_environment": "",
    "environment_version": "1"
   },
   "language": "python",
   "notebookMetadata": {
    "pythonIndentUnit": 4
   },
   "notebookName": "Untitled Notebook 2025-01-30 18_16_25",
   "widgets": {}
  },
  "language_info": {
   "name": "python"
  }
 },
 "nbformat": 4,
 "nbformat_minor": 0
}

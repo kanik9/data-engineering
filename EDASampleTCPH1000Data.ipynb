{
 "cells": [
  {
   "cell_type": "code",
   "execution_count": 0,
   "metadata": {
    "application/vnd.databricks.v1+cell": {
     "cellMetadata": {
      "byteLimit": 2048000,
      "rowLimit": 10000
     },
     "inputWidgets": {},
     "nuid": "44ddbc63-711b-4438-9550-5951121abb9d",
     "showTitle": false,
     "tableResultSettingsMap": {},
     "title": ""
    }
   },
   "outputs": [],
   "source": [
    "import pyspark.sql.functions as f\n",
    "from pyspark.sql.types import *\n",
    "# from graphframes import GraphFrame"
   ]
  },
  {
   "cell_type": "markdown",
   "metadata": {
    "application/vnd.databricks.v1+cell": {
     "cellMetadata": {},
     "inputWidgets": {},
     "nuid": "93d13856-94ef-46ba-86c2-e059281d540b",
     "showTitle": false,
     "tableResultSettingsMap": {},
     "title": ""
    }
   },
   "source": [
    "## Read data first "
   ]
  },
  {
   "cell_type": "code",
   "execution_count": 0,
   "metadata": {
    "application/vnd.databricks.v1+cell": {
     "cellMetadata": {
      "byteLimit": 2048000,
      "rowLimit": 10000
     },
     "inputWidgets": {},
     "nuid": "53c19a6d-1e83-4efa-9be0-4909fc0a3312",
     "showTitle": false,
     "tableResultSettingsMap": {},
     "title": ""
    }
   },
   "outputs": [],
   "source": [
    "customerDF = spark.read.table(\"samples.tpch.customer\")\n",
    "lineitemDF = spark.read.table(\"samples.tpch.lineitem\")\n",
    "nationDF = spark.read.table(\"samples.tpch.nation\")\n",
    "orderDF = spark.read.table(\"samples.tpch.orders\")\n",
    "partDF = spark.read.table(\"samples.tpch.part\")\n",
    "partsuppDF = spark.read.table(\"samples.tpch.partsupp\")\n",
    "regionDF = spark.read.table(\"samples.tpch.region\")\n",
    "suppDF = spark.read.table(\"samples.tpch.supplier\")"
   ]
  },
  {
   "cell_type": "markdown",
   "metadata": {
    "application/vnd.databricks.v1+cell": {
     "cellMetadata": {},
     "inputWidgets": {},
     "nuid": "403a00de-148a-4987-ac0f-fff0235a16f3",
     "showTitle": false,
     "tableResultSettingsMap": {},
     "title": ""
    }
   },
   "source": [
    "## Data Basic Infromation "
   ]
  },
  {
   "cell_type": "code",
   "execution_count": 0,
   "metadata": {
    "application/vnd.databricks.v1+cell": {
     "cellMetadata": {
      "byteLimit": 2048000,
      "rowLimit": 10000
     },
     "inputWidgets": {},
     "nuid": "f31426f8-e2d7-4e3a-8fa2-7330bbe10d67",
     "showTitle": false,
     "tableResultSettingsMap": {},
     "title": ""
    }
   },
   "outputs": [],
   "source": [
    "dataframes: dict = {\n",
    "    \"customerDF\": customerDF,\n",
    "    \"lineitemDF\": lineitemDF,\n",
    "    \"nationDF\": nationDF,\n",
    "    \"orderDF\": orderDF,\n",
    "    \"partDF\": partDF,\n",
    "    \"partsuppDF\": partsuppDF,\n",
    "    \"regionDF\": regionDF,\n",
    "    \"suppDF\": suppDF\n",
    "}"
   ]
  },
  {
   "cell_type": "code",
   "execution_count": 0,
   "metadata": {
    "application/vnd.databricks.v1+cell": {
     "cellMetadata": {
      "byteLimit": 2048000,
      "rowLimit": 10000
     },
     "inputWidgets": {},
     "nuid": "c525e800-74d1-4fc5-ba23-2dee07fb8309",
     "showTitle": false,
     "tableResultSettingsMap": {},
     "title": ""
    }
   },
   "outputs": [],
   "source": [
    "for name, df in dataframes.items():\n",
    "  print(f\"Total number of default partitions for {name} are\", df.rdd.getNumPartitions())"
   ]
  },
  {
   "cell_type": "code",
   "execution_count": 0,
   "metadata": {
    "application/vnd.databricks.v1+cell": {
     "cellMetadata": {
      "byteLimit": 2048000,
      "rowLimit": 10000
     },
     "inputWidgets": {},
     "nuid": "e3fc5484-55e8-44b7-82f1-b5ae22edfbf8",
     "showTitle": false,
     "tableResultSettingsMap": {},
     "title": ""
    }
   },
   "outputs": [],
   "source": [
    "for name, df in dataframes.items():\n",
    "  print(f\"Total number of rows for {name} are\", df.count())"
   ]
  },
  {
   "cell_type": "code",
   "execution_count": 0,
   "metadata": {
    "application/vnd.databricks.v1+cell": {
     "cellMetadata": {
      "byteLimit": 2048000,
      "rowLimit": 10000
     },
     "inputWidgets": {},
     "nuid": "98997f7b-9af8-406d-b6d0-d5ecde4e7998",
     "showTitle": false,
     "tableResultSettingsMap": {},
     "title": ""
    }
   },
   "outputs": [],
   "source": [
    "customerDF.printSchema()\n",
    "print(\"#\"*50)\n",
    "print(f\"Total Number of rows are: {customerDF.count()}\")\n",
    "print(\"#\"*50)\n",
    "val = {}\n",
    "for column in customerDF.columns:\n",
    "    val[column] = [\n",
    "      {\n",
    "      f\"distinct_count\": customerDF.select(f.col(column)).distinct().count(),\n",
    "      f\"null_count\": customerDF.filter(f.col(column).isNull()).count()\n",
    "      }\n",
    "    ]\n",
    "display(val)\n"
   ]
  },
  {
   "cell_type": "code",
   "execution_count": 0,
   "metadata": {
    "application/vnd.databricks.v1+cell": {
     "cellMetadata": {
      "byteLimit": 2048000,
      "rowLimit": 10000
     },
     "inputWidgets": {},
     "nuid": "fb0d5c94-7e47-4fcc-97e1-f3d3cd636db7",
     "showTitle": false,
     "tableResultSettingsMap": {},
     "title": ""
    }
   },
   "outputs": [],
   "source": [
    "print(\"With default number of partitions\")\n",
    "lineitemDF.printSchema()\n",
    "print(\"#\"*50)\n",
    "print(f\"Total Number of rows are: {lineitemDF.count()}\")\n",
    "print(\"#\"*50)\n",
    "val = {}\n",
    "for column in lineitemDF.columns:\n",
    "    val[column] = [\n",
    "      {\n",
    "      f\"distinct_count\": lineitemDF.select(f.col(column)).distinct().count(),\n",
    "      f\"null_count\": lineitemDF.filter(f.col(column).isNull()).count()\n",
    "      }\n",
    "    ]\n",
    "display(val)"
   ]
  },
  {
   "cell_type": "code",
   "execution_count": 0,
   "metadata": {
    "application/vnd.databricks.v1+cell": {
     "cellMetadata": {
      "byteLimit": 2048000,
      "rowLimit": 10000
     },
     "inputWidgets": {},
     "nuid": "7679683f-92ec-4eae-b3c5-2d9c75e29042",
     "showTitle": false,
     "tableResultSettingsMap": {},
     "title": ""
    }
   },
   "outputs": [],
   "source": [
    "lineitemDF_5_partition = lineitemDF.coalesce(5)"
   ]
  },
  {
   "cell_type": "code",
   "execution_count": 0,
   "metadata": {
    "application/vnd.databricks.v1+cell": {
     "cellMetadata": {
      "byteLimit": 2048000,
      "rowLimit": 10000
     },
     "inputWidgets": {},
     "nuid": "7b73394c-d98a-4afe-8dd8-97a585f2cfc5",
     "showTitle": false,
     "tableResultSettingsMap": {},
     "title": ""
    }
   },
   "outputs": [],
   "source": [
    "lineitemDF_5_partition.rdd.getNumPartitions()"
   ]
  },
  {
   "cell_type": "code",
   "execution_count": 0,
   "metadata": {
    "application/vnd.databricks.v1+cell": {
     "cellMetadata": {
      "byteLimit": 2048000,
      "rowLimit": 10000
     },
     "inputWidgets": {},
     "nuid": "08aac825-8f49-4a3c-bff4-8b402ee9a20f",
     "showTitle": false,
     "tableResultSettingsMap": {},
     "title": ""
    }
   },
   "outputs": [],
   "source": [
    "print(\"With 5 number of partitions\")\n",
    "lineitemDF_5_partition.printSchema()\n",
    "print(\"#\"*50)\n",
    "print(f\"Total Number of rows are: {lineitemDF_5_partition.count()}\")\n",
    "print(\"#\"*50)\n",
    "val = {}\n",
    "for column in lineitemDF_5_partition.columns:\n",
    "    val[column] = [\n",
    "      {\n",
    "      f\"distinct_count\": lineitemDF_5_partition.select(f.col(column)).distinct().count(),\n",
    "      f\"null_count\": lineitemDF_5_partition.filter(f.col(column).isNull()).count()\n",
    "      }\n",
    "    ]\n",
    "display(val)"
   ]
  },
  {
   "cell_type": "code",
   "execution_count": 0,
   "metadata": {
    "application/vnd.databricks.v1+cell": {
     "cellMetadata": {
      "byteLimit": 2048000,
      "rowLimit": 10000
     },
     "inputWidgets": {},
     "nuid": "f5a24a88-5280-493b-895e-829cf3c70ee4",
     "showTitle": false,
     "tableResultSettingsMap": {},
     "title": ""
    }
   },
   "outputs": [],
   "source": [
    "# for df in [customerDF, lineitemDF, nationDF, orderDF, partDF, partsuppDF, regionDF, suppDF]:\n",
    "#   # print(f\"Basic Infromation for {df.name} table is: \")\n",
    "#   print(f\"Total Number of rows are: {df.count()}\")\n",
    "#   display(df.describe())"
   ]
  },
  {
   "cell_type": "code",
   "execution_count": 0,
   "metadata": {
    "application/vnd.databricks.v1+cell": {
     "cellMetadata": {
      "byteLimit": 2048000,
      "rowLimit": 10000
     },
     "inputWidgets": {},
     "nuid": "2fa8d2c3-7d93-4a79-8433-6d9d5e023e60",
     "showTitle": false,
     "tableResultSettingsMap": {},
     "title": ""
    }
   },
   "outputs": [],
   "source": [
    "# Top 10 customers by account balance \n",
    "display(\n",
    "  customerDF.select(['c_name', 'c_mktsegment', 'c_address', 'c_phone', 'c_acctbal']).orderBy('c_acctbal', ascending=False).limit(10)\n",
    ")"
   ]
  },
  {
   "cell_type": "code",
   "execution_count": 0,
   "metadata": {
    "application/vnd.databricks.v1+cell": {
     "cellMetadata": {
      "byteLimit": 2048000,
      "rowLimit": 10000
     },
     "inputWidgets": {},
     "nuid": "052c9663-0f1c-4dfa-935f-dc90ea9b2edf",
     "showTitle": false,
     "tableResultSettingsMap": {},
     "title": ""
    }
   },
   "outputs": [],
   "source": [
    "from pyspark.sql.functions import sum as _sum\n",
    "\n",
    "a = customerDF.groupBy('c_mktsegment').agg(\n",
    "    _sum('c_acctbal').alias('total_account_balance')\n",
    ")\n",
    "a.orderBy('total_account_balance', ascending=False).show()"
   ]
  },
  {
   "cell_type": "code",
   "execution_count": 0,
   "metadata": {
    "application/vnd.databricks.v1+cell": {
     "cellMetadata": {
      "byteLimit": 2048000,
      "rowLimit": 10000
     },
     "inputWidgets": {},
     "nuid": "33ac3ed0-0192-4c86-851d-fe4f86c9401a",
     "showTitle": false,
     "tableResultSettingsMap": {},
     "title": ""
    }
   },
   "outputs": [],
   "source": [
    "customerDF.createOrReplaceTempView(\"customer_table\")"
   ]
  },
  {
   "cell_type": "code",
   "execution_count": 0,
   "metadata": {
    "application/vnd.databricks.v1+cell": {
     "cellMetadata": {
      "byteLimit": 2048000,
      "rowLimit": 10000
     },
     "inputWidgets": {},
     "nuid": "78dabb74-a3b3-4a11-8586-e93992c739b8",
     "showTitle": false,
     "tableResultSettingsMap": {},
     "title": ""
    }
   },
   "outputs": [],
   "source": [
    "spark.sql(\"select c_mktsegment as mktsegment, sum(c_acctbal) as total_account_balance from customer_table group by c_mktsegment  order by total_account_balance DEsc\").show()"
   ]
  },
  {
   "cell_type": "code",
   "execution_count": 0,
   "metadata": {
    "application/vnd.databricks.v1+cell": {
     "cellMetadata": {
      "byteLimit": 2048000,
      "rowLimit": 10000
     },
     "inputWidgets": {},
     "nuid": "6b72a165-ab5f-44ef-baaf-381c0e25627f",
     "showTitle": true,
     "tableResultSettingsMap": {},
     "title": "Create a new column | round of the amount to 0"
    }
   },
   "outputs": [],
   "source": [
    "customerDF = customerDF.withColumn('rounded_acctbal', f.round('c_acctbal', 0))\n",
    "display(customerDF)\n"
   ]
  },
  {
   "cell_type": "code",
   "execution_count": 0,
   "metadata": {
    "application/vnd.databricks.v1+cell": {
     "cellMetadata": {
      "byteLimit": 2048000,
      "rowLimit": 10000
     },
     "inputWidgets": {},
     "nuid": "09122ca8-a88d-446d-a767-ef1965e4ebb8",
     "showTitle": false,
     "tableResultSettingsMap": {},
     "title": ""
    }
   },
   "outputs": [],
   "source": [
    "from pyspark.sql.window import Window"
   ]
  },
  {
   "cell_type": "code",
   "execution_count": 0,
   "metadata": {
    "application/vnd.databricks.v1+cell": {
     "cellMetadata": {
      "byteLimit": 2048000,
      "rowLimit": 10000
     },
     "inputWidgets": {},
     "nuid": "815f51e6-8078-4e4b-92ae-1eff0f26f318",
     "showTitle": false,
     "tableResultSettingsMap": {},
     "title": ""
    }
   },
   "outputs": [],
   "source": [
    "custom_window = Window.partitionBy('c_mktsegment').orderBy(f.desc('rounded_acctbal'))\n",
    "\n",
    "# Apply the window functions\n",
    "result_df = customerDF.select(\n",
    "    'c_name', \n",
    "    'c_mktsegment', \n",
    "    'c_address', \n",
    "    'c_phone', \n",
    "    'c_acctbal',\n",
    "    'rounded_acctbal',\n",
    "    f.dense_rank().over(custom_window).alias('dense_rank'), \n",
    "    f.rank().over(custom_window).alias('rank')\n",
    ")\n",
    "\n",
    "# Display the first 10 results\n",
    "display(result_df.select(\"*\").groupBy('c_mktsegment').min('dense_rank').limit(10))"
   ]
  },
  {
   "cell_type": "code",
   "execution_count": 0,
   "metadata": {
    "application/vnd.databricks.v1+cell": {
     "cellMetadata": {
      "byteLimit": 2048000,
      "rowLimit": 10000
     },
     "inputWidgets": {},
     "nuid": "894e7e90-073a-41a2-be65-2ccad02f87ef",
     "showTitle": true,
     "tableResultSettingsMap": {},
     "title": "Highest ranked customer in each department based on the amount\\"
    }
   },
   "outputs": [],
   "source": [
    "# Display the first 10 results\n",
    "display(result_df.groupBy('c_mktsegment').agg(\n",
    "  f.first('c_name').alias(\"customer_name\"),\n",
    "  f.first('c_address').alias(\"address\"),\n",
    "  f.first('c_phone').alias(\"phone\"),\n",
    "  f.first('c_acctbal').alias(\"acctbal\"),\n",
    "  f.first('rounded_acctbal').alias(\"rounded_acctbal\"),\n",
    "  f.min('dense_rank').alias(\"rank\"),\n",
    "  f.first('rank').alias(\"dense_rank\")\n",
    "  ).orderBy('c_mktsegment')\n",
    ")"
   ]
  },
  {
   "cell_type": "code",
   "execution_count": 0,
   "metadata": {
    "application/vnd.databricks.v1+cell": {
     "cellMetadata": {
      "byteLimit": 2048000,
      "rowLimit": 10000
     },
     "collapsed": true,
     "inputWidgets": {},
     "nuid": "bb0ebc86-baa5-43d0-9db8-97e31766a746",
     "showTitle": false,
     "tableResultSettingsMap": {},
     "title": ""
    }
   },
   "outputs": [],
   "source": [
    "display(lineitemDF_5_partition.head(5))"
   ]
  },
  {
   "cell_type": "code",
   "execution_count": 0,
   "metadata": {
    "application/vnd.databricks.v1+cell": {
     "cellMetadata": {
      "byteLimit": 2048000,
      "rowLimit": 10000
     },
     "inputWidgets": {},
     "nuid": "8d0807fa-0b90-44d4-8216-1cb8d08c67bb",
     "showTitle": false,
     "tableResultSettingsMap": {},
     "title": ""
    }
   },
   "outputs": [],
   "source": [
    "customerDF.groupby(\"c_mktsegment\").agg(\n",
    "  f.first('c_name').alias(\"customer_name\"),\n",
    "  f.first('c_address').alias(\"address\"),\n",
    "  f.first('c_phone').alias(\"phone\"),\n",
    "  f.max('c_acctbal')\n",
    "  ).show()"
   ]
  },
  {
   "cell_type": "code",
   "execution_count": 0,
   "metadata": {
    "application/vnd.databricks.v1+cell": {
     "cellMetadata": {
      "byteLimit": 2048000,
      "rowLimit": 10000
     },
     "inputWidgets": {},
     "nuid": "9198c4ff-9211-435e-9fe8-664e53f14008",
     "showTitle": false,
     "tableResultSettingsMap": {},
     "title": ""
    }
   },
   "outputs": [],
   "source": [
    "display(customerDF.orderBy(\"c_acctbal\", ascending=False).limit(1))"
   ]
  },
  {
   "cell_type": "code",
   "execution_count": 0,
   "metadata": {
    "application/vnd.databricks.v1+cell": {
     "cellMetadata": {
      "byteLimit": 2048000,
      "rowLimit": 10000
     },
     "inputWidgets": {},
     "nuid": "f16dfbaa-6ef6-45d7-a01a-dde774b176e7",
     "showTitle": false,
     "tableResultSettingsMap": {},
     "title": ""
    }
   },
   "outputs": [],
   "source": [
    "customerDF.select(f.max(\"c_acctbal\")).show()"
   ]
  },
  {
   "cell_type": "code",
   "execution_count": 0,
   "metadata": {
    "application/vnd.databricks.v1+cell": {
     "cellMetadata": {
      "byteLimit": 2048000,
      "rowLimit": 10000
     },
     "inputWidgets": {},
     "nuid": "a0268b88-d032-48de-b14f-2d0baa0084cf",
     "showTitle": true,
     "tableResultSettingsMap": {},
     "title": "Handle few columns"
    }
   },
   "outputs": [],
   "source": [
    "lineitemDF_5_partition = lineitemDF_5_partition.withColumn(\"l_quantity_new\", f.col(\"l_quantity\").cast(\"int\"))\n",
    "lineitemDF_5_partition = lineitemDF_5_partition.withColumn(\"l_extendedprice_new\", f.round(f.col(\"l_extendedprice\"), 2))\n",
    "lineitemDF_5_partition = lineitemDF_5_partition.withColumn(\"l_discount_new\", (f.round(f.col(\"l_discount\"), 2) * 100).cast(\"int\"))\n",
    "lineitemDF_5_partition = lineitemDF_5_partition.withColumn(\"l_tax_new\", f.round(f.col(\"l_tax\"), 2))"
   ]
  },
  {
   "cell_type": "code",
   "execution_count": 0,
   "metadata": {
    "application/vnd.databricks.v1+cell": {
     "cellMetadata": {
      "byteLimit": 2048000,
      "rowLimit": 10000
     },
     "inputWidgets": {},
     "nuid": "2f5ba1c2-27b4-4824-a840-2d54aefa6735",
     "showTitle": false,
     "tableResultSettingsMap": {},
     "title": ""
    }
   },
   "outputs": [],
   "source": [
    "lineitemDF_5_partition.printSchema()"
   ]
  },
  {
   "cell_type": "code",
   "execution_count": 0,
   "metadata": {
    "application/vnd.databricks.v1+cell": {
     "cellMetadata": {
      "byteLimit": 2048000,
      "rowLimit": 10000
     },
     "inputWidgets": {},
     "nuid": "f3fd3aa4-2526-4f35-82d4-0b30b8c265b6",
     "showTitle": false,
     "tableResultSettingsMap": {},
     "title": ""
    }
   },
   "outputs": [],
   "source": [
    "display(lineitemDF_5_partition.head(5))"
   ]
  },
  {
   "cell_type": "code",
   "execution_count": 0,
   "metadata": {
    "application/vnd.databricks.v1+cell": {
     "cellMetadata": {
      "byteLimit": 2048000,
      "rowLimit": 10000
     },
     "inputWidgets": {},
     "nuid": "d1c2db19-dc7a-42d4-973a-f891ade9458c",
     "showTitle": true,
     "tableResultSettingsMap": {},
     "title": "Orders with Discount greater than 10%"
    }
   },
   "outputs": [],
   "source": [
    "display(\n",
    "  lineitemDF_5_partition.filter(f.col(\"l_discount_new\") >= 10)\n",
    ")"
   ]
  },
  {
   "cell_type": "markdown",
   "metadata": {
    "application/vnd.databricks.v1+cell": {
     "cellMetadata": {},
     "inputWidgets": {},
     "nuid": "d4216687-465e-4e4b-9ac5-c380fef141d1",
     "showTitle": false,
     "tableResultSettingsMap": {},
     "title": ""
    }
   },
   "source": [
    "### Joining the Schema"
   ]
  },
  {
   "cell_type": "code",
   "execution_count": 0,
   "metadata": {
    "application/vnd.databricks.v1+cell": {
     "cellMetadata": {
      "byteLimit": 2048000,
      "rowLimit": 10000
     },
     "inputWidgets": {},
     "nuid": "08e8652a-d5eb-40c8-861c-2ecc5c3e4e35",
     "showTitle": false,
     "tableResultSettingsMap": {},
     "title": ""
    }
   },
   "outputs": [],
   "source": [
    "customer_to_nation_df_withoutbroadcast = customerDF.join(\n",
    "  nationDF, \n",
    "  on=[customerDF.c_nationkey == nationDF.n_nationkey],\n",
    "  how='inner'\n",
    ").join(\n",
    "  regionDF,\n",
    "  on=[nationDF.n_regionkey == regionDF.r_regionkey],\n",
    "  how='inner'\n",
    ")"
   ]
  },
  {
   "cell_type": "code",
   "execution_count": 0,
   "metadata": {
    "application/vnd.databricks.v1+cell": {
     "cellMetadata": {
      "byteLimit": 2048000,
      "rowLimit": 10000
     },
     "inputWidgets": {},
     "nuid": "c39157f0-13ce-451d-be6a-dba910d5eb3e",
     "showTitle": false,
     "tableResultSettingsMap": {},
     "title": ""
    }
   },
   "outputs": [],
   "source": [
    "display(customer_to_nation_df_withoutbroadcast.head(10))"
   ]
  },
  {
   "cell_type": "code",
   "execution_count": 0,
   "metadata": {
    "application/vnd.databricks.v1+cell": {
     "cellMetadata": {
      "byteLimit": 2048000,
      "rowLimit": 10000
     },
     "inputWidgets": {},
     "nuid": "34de23ab-15ab-4d8a-ad2e-f4b2e476169a",
     "showTitle": false,
     "tableResultSettingsMap": {},
     "title": ""
    }
   },
   "outputs": [],
   "source": [
    "customer_to_nation_df = customerDF.join(\n",
    "  f.broadcast(nationDF), \n",
    "  on=[customerDF.c_nationkey == nationDF.n_nationkey],\n",
    "  how='inner'\n",
    ").join(\n",
    "  f.broadcast(regionDF),\n",
    "  on=[nationDF.n_regionkey == regionDF.r_regionkey],\n",
    "  how='inner'\n",
    ").select(\n",
    "  customerDF.c_custkey.alias(\"customer_key\"),\n",
    "  nationDF.n_nationkey.alias(\"nation_key\"),\n",
    "  regionDF.r_regionkey.alias(\"region_key\"),\n",
    "  customerDF.c_name.alias(\"customer_name\"),\n",
    "  customerDF.c_address.alias(\"customer_address\"),\n",
    "  customerDF.c_phone.alias(\"customer_phone\"),\n",
    "  f.round(customerDF.c_acctbal, 2).alias(\"customer_acctbal\"),\n",
    "  customerDF.c_mktsegment.alias(\"mktsegment\"),\n",
    "  regionDF.r_name.alias(\"region_name\"),\n",
    "  nationDF.n_name.alias(\"nation_name\"),\n",
    "  regionDF.r_comment.alias(\"region_comment\"),\n",
    "  nationDF.n_comment.alias(\"nation_comment\"),\n",
    "  customerDF.c_comment.alias(\"customer_comment\"),\n",
    ")"
   ]
  },
  {
   "cell_type": "code",
   "execution_count": 0,
   "metadata": {
    "application/vnd.databricks.v1+cell": {
     "cellMetadata": {
      "byteLimit": 2048000,
      "rowLimit": 10000
     },
     "inputWidgets": {},
     "nuid": "b6ed5d12-a8ca-4700-9a4d-e3811d70d0ec",
     "showTitle": false,
     "tableResultSettingsMap": {},
     "title": ""
    }
   },
   "outputs": [],
   "source": [
    "customer_to_nation_df.cache()"
   ]
  },
  {
   "cell_type": "code",
   "execution_count": 0,
   "metadata": {
    "application/vnd.databricks.v1+cell": {
     "cellMetadata": {
      "byteLimit": 2048000,
      "rowLimit": 10000
     },
     "inputWidgets": {},
     "nuid": "600c0f02-9e9b-41c1-b609-cd0011ed20e7",
     "showTitle": false,
     "tableResultSettingsMap": {},
     "title": ""
    }
   },
   "outputs": [],
   "source": [
    "customer_to_nation_df.is_cached"
   ]
  },
  {
   "cell_type": "code",
   "execution_count": 0,
   "metadata": {
    "application/vnd.databricks.v1+cell": {
     "cellMetadata": {
      "byteLimit": 2048000,
      "rowLimit": 10000
     },
     "inputWidgets": {},
     "nuid": "4585ad82-c36c-413a-80b9-fd2f10fefcf4",
     "showTitle": false,
     "tableResultSettingsMap": {},
     "title": ""
    }
   },
   "outputs": [],
   "source": [
    "display(customer_to_nation_df.head(10))"
   ]
  },
  {
   "cell_type": "code",
   "execution_count": 0,
   "metadata": {
    "application/vnd.databricks.v1+cell": {
     "cellMetadata": {
      "byteLimit": 2048000,
      "rowLimit": 10000
     },
     "inputWidgets": {},
     "nuid": "4ccc654f-54f8-4b45-a6b3-c6807a0e6838",
     "showTitle": false,
     "tableResultSettingsMap": {},
     "title": ""
    }
   },
   "outputs": [
    {
     "output_type": "display_data",
     "data": {
      "text/plain": [
       "Databricks visualization. Run in Databricks to view."
      ]
     },
     "metadata": {
      "application/vnd.databricks.v1.subcommand+json": {
       "baseErrorDetails": null,
       "bindings": {},
       "collapsed": false,
       "command": "%python\n__backend_agg_display_orig = display\n__backend_agg_dfs = []\ndef __backend_agg_display_new(df):\n    __backend_agg_df_modules = [\"pandas.core.frame\", \"databricks.koalas.frame\", \"pyspark.sql.dataframe\", \"pyspark.pandas.frame\", \"pyspark.sql.connect.dataframe\"]\n    if (type(df).__module__ in __backend_agg_df_modules and type(df).__name__ == 'DataFrame') or isinstance(df, list):\n        __backend_agg_dfs.append(df)\n\ndisplay = __backend_agg_display_new\n\ndef __backend_agg_user_code_fn():\n    import base64\n    exec(base64.standard_b64decode(\"ZGlzcGxheShjdXN0b21lcl90b19uYXRpb25fZGYuZ3JvdXBCeSgicmVnaW9uX25hbWUiLCAibmF0aW9uX25hbWUiLCAibWt0c2VnbWVudCIpLmFnZygKICAgIGYuc3VtKAogICAgICAgIGYucm91bmQoCiAgICAgICAgICAgIGYuY29sKCdjdXN0b21lcl9hY2N0YmFsJyksIDIKICAgICAgICApCiAgICApLmFsaWFzKCJUb3RhbF9hY2NvdW50X2JhbGFuY2UiKSwKKSk=\").decode())\n\ntry:\n    # run user code\n    __backend_agg_user_code_fn()\n\n    #reset display function\n    display = __backend_agg_display_orig\n\n    if len(__backend_agg_dfs) > 0:\n        # create a temp view\n        if type(__backend_agg_dfs[0]).__module__ == \"databricks.koalas.frame\":\n            # koalas dataframe\n            __backend_agg_dfs[0].to_spark().createOrReplaceTempView(\"DatabricksViewc0c1b9a\")\n        elif type(__backend_agg_dfs[0]).__module__ == \"pandas.core.frame\" or isinstance(__backend_agg_dfs[0], list):\n            # pandas dataframe\n            spark.createDataFrame(__backend_agg_dfs[0]).createOrReplaceTempView(\"DatabricksViewc0c1b9a\")\n        else:\n            __backend_agg_dfs[0].createOrReplaceTempView(\"DatabricksViewc0c1b9a\")\n        #run backend agg\n        display(spark.sql(\"\"\"WITH q AS (select * from DatabricksViewc0c1b9a) SELECT `nation_name`,`region_name`,`mktsegment`,`Total_account_balance` FROM q\"\"\"))\n    else:\n        displayHTML(\"dataframe no longer exists. If you're using dataframe.display(), use display(dataframe) instead.\")\n\n\nfinally:\n    spark.sql(\"drop view if exists DatabricksViewc0c1b9a\")\n    display = __backend_agg_display_orig\n    del __backend_agg_display_new\n    del __backend_agg_display_orig\n    del __backend_agg_dfs\n    del __backend_agg_user_code_fn\n\n",
       "commandTitle": "Visualization 1",
       "commandType": "auto",
       "commandVersion": 0,
       "commentThread": [],
       "commentsVisible": false,
       "contentSha256Hex": null,
       "customPlotOptions": {
        "redashChart": [
         {
          "key": "type",
          "value": "CHART"
         },
         {
          "key": "options",
          "value": {
           "alignYAxesAtZero": true,
           "coefficient": 1,
           "columnConfigurationMap": {
            "series": {
             "column": "mktsegment",
             "id": "column_d94e89804"
            },
            "size": {
             "column": "Total_account_balance",
             "id": "column_d94e89805"
            },
            "x": {
             "column": "nation_name",
             "id": "column_d94e89807"
            },
            "y": [
             {
              "column": "region_name",
              "id": "column_d94e898013"
             }
            ]
           },
           "dateTimeFormat": "DD/MM/YYYY HH:mm",
           "direction": {
            "type": "counterclockwise"
           },
           "error_y": {
            "type": "data",
            "visible": true
           },
           "globalSeriesType": "bubble",
           "legend": {
            "traceorder": "normal"
           },
           "missingValuesAsZero": true,
           "numberFormat": "0,0.[00000]",
           "percentFormat": "0[.]00%",
           "series": {
            "error_y": {
             "type": "data",
             "visible": true
            },
            "stacking": null
           },
           "seriesOptions": {
            "mktsegment": {
             "type": "bubble",
             "yAxis": 0
            },
            "nation_name": {
             "type": "bubble",
             "yAxis": 0
            },
            "region_name": {
             "type": "bubble",
             "yAxis": 0
            }
           },
           "showDataLabels": false,
           "sizemode": "diameter",
           "sortX": true,
           "sortY": true,
           "swappedAxes": false,
           "textFormat": "",
           "useAggregationsUi": true,
           "valuesOptions": {},
           "version": 2,
           "xAxis": {
            "labels": {
             "enabled": true
            },
            "type": "-"
           },
           "yAxis": [
            {
             "type": "-"
            },
            {
             "opposite": true,
             "type": "-"
            }
           ]
          }
         }
        ]
       },
       "datasetPreviewNameToCmdIdMap": {},
       "diffDeletes": [],
       "diffInserts": [],
       "displayType": "redashChart",
       "error": null,
       "errorDetails": null,
       "errorSummary": null,
       "errorTraceType": null,
       "finishTime": 0,
       "globalVars": {},
       "guid": "",
       "height": "auto",
       "hideCommandCode": false,
       "hideCommandResult": false,
       "iPythonMetadata": null,
       "inputWidgets": {},
       "isLockedInExamMode": false,
       "latestUser": "a user",
       "latestUserId": null,
       "listResultMetadata": null,
       "metadata": {
        "byteLimit": 2048000,
        "rowLimit": 10000
       },
       "nuid": "cae790b8-3a01-4a03-a9f9-720bd2d7dd23",
       "origId": 0,
       "parentHierarchy": [],
       "pivotAggregation": null,
       "pivotColumns": null,
       "position": 13.5,
       "resultDbfsErrorMessage": null,
       "resultDbfsStatus": "INLINED_IN_TREE",
       "results": null,
       "showCommandTitle": false,
       "startTime": 0,
       "state": "input",
       "streamStates": {},
       "subcommandOptions": {
        "queryPlan": {
         "selects": [
          {
           "column": "nation_name",
           "type": "column"
          },
          {
           "column": "region_name",
           "type": "column"
          },
          {
           "column": "mktsegment",
           "type": "column"
          },
          {
           "column": "Total_account_balance",
           "type": "column"
          }
         ]
        }
       },
       "submitTime": 0,
       "subtype": "tableResultSubCmd.visualization",
       "tableResultIndex": 0,
       "tableResultSettingsMap": {},
       "useConsistentColors": false,
       "version": "CommandV1",
       "width": "auto",
       "workflows": null,
       "xColumns": null,
       "yColumns": null
      }
     },
     "output_type": "display_data"
    }
   ],
   "source": [
    "display(customer_to_nation_df.groupBy(\"region_name\", \"nation_name\", \"mktsegment\").agg(\n",
    "    f.sum(\n",
    "        f.round(\n",
    "            f.col('customer_acctbal'), 2\n",
    "        )\n",
    "    ).alias(\"Total_account_balance\"),\n",
    "))"
   ]
  },
  {
   "cell_type": "code",
   "execution_count": 0,
   "metadata": {
    "application/vnd.databricks.v1+cell": {
     "cellMetadata": {
      "byteLimit": 2048000,
      "rowLimit": 10000
     },
     "inputWidgets": {},
     "nuid": "9e388c2c-a70e-4b92-bf1e-6f136cce0969",
     "showTitle": false,
     "tableResultSettingsMap": {},
     "title": ""
    }
   },
   "outputs": [],
   "source": [
    "display(\n",
    "  customer_to_nation_df.groupBy(\"region_name\", \"nation_name\", \"mktsegment\").agg(\n",
    "    f.sum(\n",
    "        f.round(\n",
    "            f.col('customer_acctbal'), 2\n",
    "        )\n",
    "    ).alias(\"Total_account_balance\"),\n",
    "  ).orderBy(\"Total_account_balance\", ascending=False)\n",
    ")"
   ]
  },
  {
   "cell_type": "code",
   "execution_count": 0,
   "metadata": {
    "application/vnd.databricks.v1+cell": {
     "cellMetadata": {
      "byteLimit": 2048000,
      "rowLimit": 10000
     },
     "inputWidgets": {},
     "nuid": "a2b6ec10-8d9e-4de0-bb8a-1db33b1ae7c6",
     "showTitle": false,
     "tableResultSettingsMap": {},
     "title": ""
    }
   },
   "outputs": [
    {
     "output_type": "display_data",
     "data": {
      "text/plain": [
       "Databricks visualization. Run in Databricks to view."
      ]
     },
     "metadata": {
      "application/vnd.databricks.v1.subcommand+json": {
       "baseErrorDetails": null,
       "bindings": {},
       "collapsed": false,
       "command": "%python\n__backend_agg_display_orig = display\n__backend_agg_dfs = []\ndef __backend_agg_display_new(df):\n    __backend_agg_df_modules = [\"pandas.core.frame\", \"databricks.koalas.frame\", \"pyspark.sql.dataframe\", \"pyspark.pandas.frame\", \"pyspark.sql.connect.dataframe\"]\n    if (type(df).__module__ in __backend_agg_df_modules and type(df).__name__ == 'DataFrame') or isinstance(df, list):\n        __backend_agg_dfs.append(df)\n\ndisplay = __backend_agg_display_new\n\ndef __backend_agg_user_code_fn():\n    import base64\n    exec(base64.standard_b64decode(\"ZGlzcGxheSgKICBjdXN0b21lcl90b19uYXRpb25fZGYuZ3JvdXBCeSgicmVnaW9uX25hbWUiKS5hZ2coCiAgICBmLmNvdW50KGYuY29sKCdjdXN0b21lcl9rZXknKSkuYWxpYXMoIlRvdGFsX2N1c3RvbWVycyIpCiAgKS5vcmRlckJ5KCJUb3RhbF9jdXN0b21lcnMiLCBhc2NlbmRpbmc9RmFsc2UpCik=\").decode())\n\ntry:\n    # run user code\n    __backend_agg_user_code_fn()\n\n    #reset display function\n    display = __backend_agg_display_orig\n\n    if len(__backend_agg_dfs) > 0:\n        # create a temp view\n        if type(__backend_agg_dfs[0]).__module__ == \"databricks.koalas.frame\":\n            # koalas dataframe\n            __backend_agg_dfs[0].to_spark().createOrReplaceTempView(\"DatabricksView3ca1458\")\n        elif type(__backend_agg_dfs[0]).__module__ == \"pandas.core.frame\" or isinstance(__backend_agg_dfs[0], list):\n            # pandas dataframe\n            spark.createDataFrame(__backend_agg_dfs[0]).createOrReplaceTempView(\"DatabricksView3ca1458\")\n        else:\n            __backend_agg_dfs[0].createOrReplaceTempView(\"DatabricksView3ca1458\")\n        #run backend agg\n        display(spark.sql(\"\"\"WITH q AS (select * from DatabricksView3ca1458) SELECT `region_name`,SUM(`Total_customers`) `column_d94e898033` FROM q GROUP BY `region_name`\"\"\"))\n    else:\n        displayHTML(\"dataframe no longer exists. If you're using dataframe.display(), use display(dataframe) instead.\")\n\n\nfinally:\n    spark.sql(\"drop view if exists DatabricksView3ca1458\")\n    display = __backend_agg_display_orig\n    del __backend_agg_display_new\n    del __backend_agg_display_orig\n    del __backend_agg_dfs\n    del __backend_agg_user_code_fn\n\n",
       "commandTitle": "Visualization 1",
       "commandType": "auto",
       "commandVersion": 0,
       "commentThread": [],
       "commentsVisible": false,
       "contentSha256Hex": null,
       "customPlotOptions": {
        "redashChart": [
         {
          "key": "type",
          "value": "CHART"
         },
         {
          "key": "options",
          "value": {
           "alignYAxesAtZero": true,
           "coefficient": 1,
           "columnConfigurationMap": {
            "x": {
             "column": "region_name",
             "id": "column_d94e898032"
            },
            "y": [
             {
              "column": "Total_customers",
              "id": "column_d94e898033",
              "transform": "SUM"
             }
            ]
           },
           "dateTimeFormat": "DD/MM/YYYY HH:mm",
           "direction": {
            "type": "counterclockwise"
           },
           "error_y": {
            "type": "data",
            "visible": true
           },
           "globalSeriesType": "pie",
           "legend": {
            "traceorder": "normal"
           },
           "missingValuesAsZero": true,
           "numberFormat": "0,0.[00000]",
           "percentFormat": "0[.]00%",
           "series": {
            "error_y": {
             "type": "data",
             "visible": true
            },
            "stacking": null
           },
           "seriesOptions": {
            "column_d94e898033": {
             "name": "Total_customers",
             "type": "pie",
             "yAxis": 0
            }
           },
           "showDataLabels": true,
           "sizemode": "diameter",
           "sortX": true,
           "sortY": true,
           "swappedAxes": false,
           "textFormat": "",
           "useAggregationsUi": true,
           "valuesOptions": {},
           "version": 2,
           "xAxis": {
            "labels": {
             "enabled": true
            },
            "type": "-"
           },
           "yAxis": [
            {
             "type": "-"
            },
            {
             "opposite": true,
             "type": "-"
            }
           ]
          }
         }
        ]
       },
       "datasetPreviewNameToCmdIdMap": {},
       "diffDeletes": [],
       "diffInserts": [],
       "displayType": "redashChart",
       "error": null,
       "errorDetails": null,
       "errorSummary": null,
       "errorTraceType": null,
       "finishTime": 0,
       "globalVars": {},
       "guid": "",
       "height": "auto",
       "hideCommandCode": false,
       "hideCommandResult": false,
       "iPythonMetadata": null,
       "inputWidgets": {},
       "isLockedInExamMode": false,
       "latestUser": "a user",
       "latestUserId": null,
       "listResultMetadata": null,
       "metadata": {
        "byteLimit": 2048000,
        "rowLimit": 10000
       },
       "nuid": "328cefd3-91da-484e-829f-271c53d4b615",
       "origId": 0,
       "parentHierarchy": [],
       "pivotAggregation": null,
       "pivotColumns": null,
       "position": 15.5,
       "resultDbfsErrorMessage": null,
       "resultDbfsStatus": "INLINED_IN_TREE",
       "results": null,
       "showCommandTitle": false,
       "startTime": 0,
       "state": "input",
       "streamStates": {},
       "subcommandOptions": {
        "queryPlan": {
         "groups": [
          {
           "column": "region_name",
           "type": "column"
          }
         ],
         "selects": [
          {
           "column": "region_name",
           "type": "column"
          },
          {
           "alias": "column_d94e898033",
           "args": [
            {
             "column": "Total_customers",
             "type": "column"
            }
           ],
           "function": "SUM",
           "type": "function"
          }
         ]
        }
       },
       "submitTime": 0,
       "subtype": "tableResultSubCmd.visualization",
       "tableResultIndex": 0,
       "tableResultSettingsMap": {},
       "useConsistentColors": false,
       "version": "CommandV1",
       "width": "auto",
       "workflows": null,
       "xColumns": null,
       "yColumns": null
      }
     },
     "output_type": "display_data"
    }
   ],
   "source": [
    "display(\n",
    "  customer_to_nation_df.groupBy(\"region_name\").agg(\n",
    "    f.count(f.col('customer_key')).alias(\"Total_customers\")\n",
    "  ).orderBy(\"Total_customers\", ascending=False)\n",
    ")"
   ]
  },
  {
   "cell_type": "code",
   "execution_count": 0,
   "metadata": {
    "application/vnd.databricks.v1+cell": {
     "cellMetadata": {
      "byteLimit": 2048000,
      "rowLimit": 10000
     },
     "inputWidgets": {},
     "nuid": "9b07ee48-1e19-4c7c-9c8c-a366edde4c16",
     "showTitle": false,
     "tableResultSettingsMap": {},
     "title": ""
    }
   },
   "outputs": [],
   "source": [
    "customer_to_nation_df.count()"
   ]
  },
  {
   "cell_type": "code",
   "execution_count": 0,
   "metadata": {
    "application/vnd.databricks.v1+cell": {
     "cellMetadata": {
      "byteLimit": 2048000,
      "rowLimit": 10000
     },
     "inputWidgets": {},
     "nuid": "912a70a0-213a-4457-9be6-7b6b3b2754da",
     "showTitle": false,
     "tableResultSettingsMap": {},
     "title": ""
    }
   },
   "outputs": [],
   "source": [
    "display(orderDF.head(5))"
   ]
  },
  {
   "cell_type": "markdown",
   "metadata": {
    "application/vnd.databricks.v1+cell": {
     "cellMetadata": {},
     "inputWidgets": {},
     "nuid": "b6f7f935-cdf5-4790-bafb-bc7cb434d703",
     "showTitle": false,
     "tableResultSettingsMap": {},
     "title": ""
    }
   },
   "source": [
    "- Total number of rows for customerDF are 750000\n",
    "- Total number of rows for lineitemDF are 29999795\n",
    "- Total number of rows for nationDF are 25\n",
    "- Total number of rows for orderDF are 7500000\n",
    "- Total number of rows for partDF are 1000000\n",
    "- Total number of rows for partsuppDF are 4000000\n",
    "- Total number of rows for regionDF are 5\n",
    "- Total number of rows for suppDF are 50000"
   ]
  },
  {
   "cell_type": "code",
   "execution_count": 0,
   "metadata": {
    "application/vnd.databricks.v1+cell": {
     "cellMetadata": {
      "byteLimit": 2048000,
      "rowLimit": 10000
     },
     "inputWidgets": {},
     "nuid": "3057fb3f-fb27-4ac1-8016-ae14024965b3",
     "showTitle": true,
     "tableResultSettingsMap": {},
     "title": "Create a max view of order table"
    }
   },
   "outputs": [],
   "source": [
    "# max_view_order_table = orderDF.join(\n",
    "#   f.broadcast(customer_to_nation_df),\n",
    "#   on=[customer_to_nation_df.customer_key == orderDF.o_custkey],\n",
    "#   how='inner'\n",
    "# ).join(\n",
    "#   lineitemDF,\n",
    "#   on=[orderDF.o_orderkey == lineitemDF.l_orderkey],\n",
    "#   how='inner'\n",
    "# ).join(\n",
    "#   partDF,\n",
    "#   on=[lineitemDF.l_partkey == partDF.p_partkey],\n",
    "#   how='inner'\n",
    "# ).join(\n",
    "#   f.broadcast(suppDF),\n",
    "#   on=[lineitemDF.l_suppkey == suppDF.s_suppkey],\n",
    "#   how='inner'\n",
    "# )"
   ]
  },
  {
   "cell_type": "code",
   "execution_count": 0,
   "metadata": {
    "application/vnd.databricks.v1+cell": {
     "cellMetadata": {
      "byteLimit": 2048000,
      "rowLimit": 10000
     },
     "inputWidgets": {},
     "nuid": "3fda030d-587c-4121-bcc5-0c66212b8216",
     "showTitle": false,
     "tableResultSettingsMap": {},
     "title": ""
    }
   },
   "outputs": [],
   "source": [
    "# display(max_view_order_table.head(2))"
   ]
  },
  {
   "cell_type": "code",
   "execution_count": 0,
   "metadata": {
    "application/vnd.databricks.v1+cell": {
     "cellMetadata": {
      "byteLimit": 2048000,
      "rowLimit": 10000
     },
     "inputWidgets": {},
     "nuid": "5f976527-fef7-41c2-88d3-04299bb78d2d",
     "showTitle": false,
     "tableResultSettingsMap": {},
     "title": ""
    }
   },
   "outputs": [],
   "source": [
    "# max_view_order_table1 = orderDF.join(\n",
    "#   customer_to_nation_df,\n",
    "#   on=[customer_to_nation_df.customer_key == orderDF.o_custkey],\n",
    "#   how='inner'\n",
    "# ).join(\n",
    "#   lineitemDF,\n",
    "#   on=[orderDF.o_orderkey == lineitemDF.l_orderkey],\n",
    "#   how='inner'\n",
    "# ).join(\n",
    "#   partDF,\n",
    "#   on=[lineitemDF.l_partkey == partDF.p_partkey],\n",
    "#   how='inner'\n",
    "# ).join(\n",
    "#   f.broadcast(suppDF),\n",
    "#   on=[lineitemDF.l_suppkey == suppDF.s_suppkey],\n",
    "#   how='inner'\n",
    "# )"
   ]
  },
  {
   "cell_type": "code",
   "execution_count": 0,
   "metadata": {
    "application/vnd.databricks.v1+cell": {
     "cellMetadata": {
      "byteLimit": 2048000,
      "rowLimit": 10000
     },
     "inputWidgets": {},
     "nuid": "b353d205-d39c-41e7-b904-c2681317eb34",
     "showTitle": false,
     "tableResultSettingsMap": {},
     "title": ""
    }
   },
   "outputs": [],
   "source": [
    "# display(max_view_order_table1.head(2))"
   ]
  },
  {
   "cell_type": "code",
   "execution_count": 0,
   "metadata": {
    "application/vnd.databricks.v1+cell": {
     "cellMetadata": {
      "byteLimit": 2048000,
      "rowLimit": 10000
     },
     "inputWidgets": {},
     "nuid": "67f1de6a-cfec-457d-ae72-802b2cbe46e2",
     "showTitle": false,
     "tableResultSettingsMap": {},
     "title": ""
    }
   },
   "outputs": [],
   "source": [
    "# max_view_order_table2 = orderDF.join(\n",
    "#   customer_to_nation_df,\n",
    "#   on=[customer_to_nation_df.customer_key == orderDF.o_custkey],\n",
    "#   how='inner'\n",
    "# ).join(\n",
    "#   lineitemDF,\n",
    "#   on=[orderDF.o_orderkey == lineitemDF.l_orderkey],\n",
    "#   how='inner'\n",
    "# ).join(\n",
    "#   partDF,\n",
    "#   on=[lineitemDF.l_partkey == partDF.p_partkey],\n",
    "#   how='inner'\n",
    "# ).join(\n",
    "#   f.broadcast(suppDF),\n",
    "#   on=[lineitemDF.l_suppkey == suppDF.s_suppkey],\n",
    "#   how='inner'\n",
    "# )"
   ]
  },
  {
   "cell_type": "code",
   "execution_count": 0,
   "metadata": {
    "application/vnd.databricks.v1+cell": {
     "cellMetadata": {
      "byteLimit": 2048000,
      "rowLimit": 10000
     },
     "inputWidgets": {},
     "nuid": "3c48433c-66a5-453b-a91a-841df42cc502",
     "showTitle": false,
     "tableResultSettingsMap": {},
     "title": ""
    }
   },
   "outputs": [],
   "source": [
    "# display(max_view_order_table2.head(2))"
   ]
  },
  {
   "cell_type": "code",
   "execution_count": 0,
   "metadata": {
    "application/vnd.databricks.v1+cell": {
     "cellMetadata": {
      "byteLimit": 2048000,
      "rowLimit": 10000
     },
     "inputWidgets": {},
     "nuid": "70528a17-a686-4902-9991-3e7a862fa32e",
     "showTitle": false,
     "tableResultSettingsMap": {},
     "title": ""
    }
   },
   "outputs": [],
   "source": [
    "# max_view_order_table2.explain(extended=True)"
   ]
  },
  {
   "cell_type": "code",
   "execution_count": 0,
   "metadata": {
    "application/vnd.databricks.v1+cell": {
     "cellMetadata": {
      "byteLimit": 2048000,
      "rowLimit": 10000
     },
     "inputWidgets": {},
     "nuid": "0a73f52e-c397-4917-a870-c38670141544",
     "showTitle": false,
     "tableResultSettingsMap": {},
     "title": ""
    }
   },
   "outputs": [],
   "source": [
    "max_view_order_table = orderDF.join(\n",
    "  customer_to_nation_df,\n",
    "  on=[customer_to_nation_df.customer_key == orderDF.o_custkey],\n",
    "  how='inner'\n",
    ").join(\n",
    "  lineitemDF,\n",
    "  on=[orderDF.o_orderkey == lineitemDF.l_orderkey],\n",
    "  how='inner'\n",
    ").join(\n",
    "  partDF,\n",
    "  on=[lineitemDF.l_partkey == partDF.p_partkey],\n",
    "  how='inner'\n",
    ").join(\n",
    "  f.broadcast(suppDF),\n",
    "  on=[lineitemDF.l_suppkey == suppDF.s_suppkey],\n",
    "  how='inner'\n",
    ").select(\n",
    "  # All Keys \n",
    "  customer_to_nation_df.customer_key,\n",
    "  customer_to_nation_df.nation_key,\n",
    "  customer_to_nation_df.region_key,\n",
    "  orderDF.o_orderkey.alias(\"order_key\"),\n",
    "  partDF.p_partkey.alias(\"part_key\"),\n",
    "  suppDF.s_suppkey.alias(\"supplier_key\"),\n",
    "  customer_to_nation_df.customer_name,\n",
    "  customer_to_nation_df.customer_address,\n",
    "  customer_to_nation_df.customer_phone,\n",
    "  customer_to_nation_df.customer_acctbal,\n",
    "  customer_to_nation_df.mktsegment,\n",
    "  customer_to_nation_df.region_name,\n",
    "  customer_to_nation_df.nation_name,\n",
    "  orderDF.o_orderstatus.alias(\"order_status\"),\n",
    "  f.round(orderDF.o_totalprice, 2).alias(\"order_billing_amount\"),\n",
    "  orderDF.o_orderdate.alias(\"order_date\"),\n",
    "  orderDF.o_orderpriority.alias(\"order_priority\"),\n",
    "  orderDF.o_clerk.alias(\"order_clerk\"),\n",
    "  orderDF.o_shippriority.alias(\"order_ship_priority\"),\n",
    "  orderDF.o_comment.alias(\"order_comment\"),\n",
    "  lineitemDF.l_linenumber.alias(\"order_line_item_number\"),\n",
    "  lineitemDF.l_quantity.alias(\"order_line_item_quantity\"),\n",
    "  f.round(lineitemDF.l_extendedprice, 2).alias(\"order_line_item_extended_price\"),\n",
    "  f.cast(\"int\", f.round((lineitemDF.l_discount)*100, 2)).alias(\"order_line_item_discount\"),\n",
    "  f.cast(\"int\", f.round((lineitemDF.l_tax) * 100, 2)).alias(\"order_line_item_tax\"),\n",
    "  lineitemDF.l_returnflag.alias(\"order_line_item_return_flag\"),\n",
    "  lineitemDF.l_shipdate.alias(\"order_line_item_ship_date\"),\n",
    "  lineitemDF.l_commitdate.alias(\"order_line_item_commit_date\"),\n",
    "  lineitemDF.l_shipmode.alias(\"order_line_item_ship_mode\"),\n",
    "  partDF.p_name.alias(\"part_name\"),\n",
    "  partDF.p_mfgr.alias(\"part_manufacturer\"),\n",
    "  partDF.p_brand.alias(\"part_brand\"),\n",
    "  partDF.p_type.alias(\"part_type\"),\n",
    "  partDF.p_size.alias(\"part_size\"),\n",
    "  partDF.p_container.alias(\"part_container\"),\n",
    "  partDF.p_retailprice.alias(\"part_retail_price\"),\n",
    "  suppDF.s_name.alias(\"supplier_name\"),\n",
    "  suppDF.s_address.alias(\"supplier_address\"),\n",
    "  suppDF.s_phone.alias(\"supplier_phone\"),\n",
    "  suppDF.s_acctbal.alias(\"supplier_acctbal\"),\n",
    "  # All type of comments \n",
    "  customer_to_nation_df.region_comment,\n",
    "  customer_to_nation_df.nation_comment,\n",
    "  customer_to_nation_df.customer_comment,\n",
    "  lineitemDF.l_comment.alias(\"order_line_item_comment\"),\n",
    "  suppDF.s_comment.alias(\"supplier_comment\"),\n",
    "  partDF.p_comment.alias(\"part_comment\"),\n",
    ")"
   ]
  },
  {
   "cell_type": "code",
   "execution_count": 0,
   "metadata": {
    "application/vnd.databricks.v1+cell": {
     "cellMetadata": {
      "byteLimit": 2048000,
      "rowLimit": 10000
     },
     "inputWidgets": {},
     "nuid": "d283ea4e-25db-40c7-8dcd-d9944a9fe69a",
     "showTitle": false,
     "tableResultSettingsMap": {},
     "title": ""
    }
   },
   "outputs": [],
   "source": [
    "display(max_view_order_table.head(2))"
   ]
  },
  {
   "cell_type": "code",
   "execution_count": 0,
   "metadata": {
    "application/vnd.databricks.v1+cell": {
     "cellMetadata": {
      "byteLimit": 2048000,
      "rowLimit": 10000
     },
     "inputWidgets": {},
     "nuid": "75018e58-4862-4416-a94e-a099a39ffb54",
     "showTitle": false,
     "tableResultSettingsMap": {},
     "title": ""
    }
   },
   "outputs": [],
   "source": [
    "# max_view_order_table = None\n",
    "# max_view_order_table1 = None\n",
    "# max_view_order_table2 = None"
   ]
  },
  {
   "cell_type": "code",
   "execution_count": 0,
   "metadata": {
    "application/vnd.databricks.v1+cell": {
     "cellMetadata": {
      "byteLimit": 2048000,
      "rowLimit": 10000
     },
     "inputWidgets": {},
     "nuid": "e58c2ab0-cc49-4e21-81ac-f0f8be643317",
     "showTitle": false,
     "tableResultSettingsMap": {},
     "title": ""
    }
   },
   "outputs": [],
   "source": [
    "customer_to_nation_df.unpersist()"
   ]
  },
  {
   "cell_type": "code",
   "execution_count": 0,
   "metadata": {
    "application/vnd.databricks.v1+cell": {
     "cellMetadata": {
      "byteLimit": 2048000,
      "rowLimit": 10000
     },
     "inputWidgets": {},
     "nuid": "08b189ec-f352-43db-b3dc-2e2d9681ed6e",
     "showTitle": false,
     "tableResultSettingsMap": {},
     "title": ""
    }
   },
   "outputs": [],
   "source": [
    "max_view_order_table.count()"
   ]
  },
  {
   "cell_type": "code",
   "execution_count": 0,
   "metadata": {
    "application/vnd.databricks.v1+cell": {
     "cellMetadata": {
      "byteLimit": 2048000,
      "rowLimit": 10000
     },
     "inputWidgets": {},
     "nuid": "e27158ab-afea-4dcd-a0c4-995d4b143553",
     "showTitle": false,
     "tableResultSettingsMap": {},
     "title": ""
    }
   },
   "outputs": [],
   "source": [
    "max_view_order_table.columns"
   ]
  },
  {
   "cell_type": "code",
   "execution_count": 0,
   "metadata": {
    "application/vnd.databricks.v1+cell": {
     "cellMetadata": {
      "byteLimit": 2048000,
      "rowLimit": 10000
     },
     "inputWidgets": {},
     "nuid": "5d55af8d-6a26-4bad-b0e2-dbf976faaa7d",
     "showTitle": false,
     "tableResultSettingsMap": {},
     "title": ""
    }
   },
   "outputs": [],
   "source": [
    "#  rename the dataframe\n",
    "# max_view_order_table = max_view_order_table3"
   ]
  },
  {
   "cell_type": "code",
   "execution_count": 0,
   "metadata": {
    "application/vnd.databricks.v1+cell": {
     "cellMetadata": {
      "byteLimit": 2048000,
      "rowLimit": 10000
     },
     "inputWidgets": {},
     "nuid": "7239e377-c8be-4dbb-a58d-5a9ffdb537fb",
     "showTitle": false,
     "tableResultSettingsMap": {},
     "title": ""
    }
   },
   "outputs": [],
   "source": [
    "max_view_order_table.createOrReplaceTempView(\"max_view_order_table\")"
   ]
  },
  {
   "cell_type": "code",
   "execution_count": 0,
   "metadata": {
    "application/vnd.databricks.v1+cell": {
     "cellMetadata": {
      "byteLimit": 2048000,
      "rowLimit": 10000
     },
     "inputWidgets": {},
     "nuid": "e5ee075d-96c5-4a83-824f-2b8c120402bd",
     "showTitle": true,
     "tableResultSettingsMap": {},
     "title": "Total Sales Revenue"
    }
   },
   "outputs": [],
   "source": [
    "display(max_view_order_table.agg(f.sum(\"order_billing_amount\").alias(\"sum_order_billing_amount\")))\n",
    "\n",
    "# display(spark.sql(\n",
    "#   \"select sum(order_billing_amount) from max_view_order_table\"\n",
    "# ))"
   ]
  },
  {
   "cell_type": "code",
   "execution_count": 0,
   "metadata": {
    "application/vnd.databricks.v1+cell": {
     "cellMetadata": {
      "byteLimit": 2048000,
      "rowLimit": 10000
     },
     "inputWidgets": {},
     "nuid": "cedac37e-46ea-4e1b-a7c6-aefb210333af",
     "showTitle": true,
     "tableResultSettingsMap": {},
     "title": "Average Order Value"
    }
   },
   "outputs": [],
   "source": [
    "display(\n",
    "  max_view_order_table.agg(\n",
    "    f.avg(\"order_billing_amount\").alias(\"avg_order_billing_amount\")\n",
    "  )\n",
    ")"
   ]
  },
  {
   "cell_type": "code",
   "execution_count": 0,
   "metadata": {
    "application/vnd.databricks.v1+cell": {
     "cellMetadata": {
      "byteLimit": 2048000,
      "rowLimit": 10000
     },
     "inputWidgets": {},
     "nuid": "8cb2fd5b-0a03-478e-b64c-5e7daac239db",
     "showTitle": false,
     "tableResultSettingsMap": {},
     "title": ""
    }
   },
   "outputs": [],
   "source": [
    "display(max_view_order_table.groupBy(\"order_key\").agg(f.sum(\"order_billing_amount\")))"
   ]
  },
  {
   "cell_type": "code",
   "execution_count": 0,
   "metadata": {
    "application/vnd.databricks.v1+cell": {
     "cellMetadata": {
      "byteLimit": 2048000,
      "rowLimit": 10000
     },
     "inputWidgets": {},
     "nuid": "f684b094-baab-4e79-ac90-1e8e40b2ddac",
     "showTitle": true,
     "tableResultSettingsMap": {},
     "title": "On-Time Delivery Rate"
    }
   },
   "outputs": [],
   "source": [
    "# order_line_item_ship_date <= order_line_item_commitdate.\n",
    "display(\n",
    "  max_view_order_table.filter(\n",
    "    f.col('order_line_item_ship_date') <= f.col('order_line_item_commit_date')\n",
    "    )\n",
    ")"
   ]
  },
  {
   "cell_type": "code",
   "execution_count": 0,
   "metadata": {
    "application/vnd.databricks.v1+cell": {
     "cellMetadata": {
      "byteLimit": 2048000,
      "rowLimit": 10000
     },
     "inputWidgets": {},
     "nuid": "d5a9da3d-93e3-4846-904d-b9840715fe5f",
     "showTitle": true,
     "tableResultSettingsMap": {},
     "title": "Top Selling Products"
    }
   },
   "outputs": [],
   "source": [
    "top_selling_products = max_view_order_table.groupBy('part_name').agg(\n",
    "  f.first(\"region_name\").alias(\"region_name\"),\n",
    "  f.sum(\"order_line_item_quantity\").alias(\"total_quantity\"),\n",
    "  f.sum('order_line_item_extended_price').alias(\"total_price\")\n",
    ")"
   ]
  },
  {
   "cell_type": "code",
   "execution_count": 0,
   "metadata": {
    "application/vnd.databricks.v1+cell": {
     "cellMetadata": {
      "byteLimit": 2048000,
      "rowLimit": 10000
     },
     "inputWidgets": {},
     "nuid": "eaa17fdc-e737-4bb7-acc3-289154aab042",
     "showTitle": false,
     "tableResultSettingsMap": {},
     "title": ""
    }
   },
   "outputs": [],
   "source": [
    "top_selling_products.display()"
   ]
  },
  {
   "cell_type": "code",
   "execution_count": 0,
   "metadata": {
    "application/vnd.databricks.v1+cell": {
     "cellMetadata": {},
     "inputWidgets": {},
     "nuid": "9ab9a897-b42f-4b8e-b96f-fc26fb4a9084",
     "showTitle": false,
     "tableResultSettingsMap": {},
     "title": ""
    }
   },
   "outputs": [],
   "source": [
    "f.per"
   ]
  }
 ],
 "metadata": {
  "application/vnd.databricks.v1+notebook": {
   "computePreferences": null,
   "dashboards": [],
   "environmentMetadata": null,
   "language": "python",
   "notebookMetadata": {
    "mostRecentlyExecutedCommandWithImplicitDF": {
     "commandId": -1,
     "dataframes": [
      "_sqldf"
     ]
    },
    "pythonIndentUnit": 2
   },
   "notebookName": "EDASampleTCPH1000Data",
   "widgets": {}
  },
  "language_info": {
   "name": "python"
  }
 },
 "nbformat": 4,
 "nbformat_minor": 0
}
